{
  "nbformat": 4,
  "nbformat_minor": 0,
  "metadata": {
    "colab": {
      "provenance": [],
      "authorship_tag": "ABX9TyOACw42kWMYcy2ioyOdfHVO",
      "include_colab_link": true
    },
    "kernelspec": {
      "name": "python3",
      "display_name": "Python 3"
    },
    "language_info": {
      "name": "python"
    }
  },
  "cells": [
    {
      "cell_type": "markdown",
      "metadata": {
        "id": "view-in-github",
        "colab_type": "text"
      },
      "source": [
        "<a href=\"https://colab.research.google.com/github/Manekantag/html5demos/blob/master/Level1.ipynb\" target=\"_parent\"><img src=\"https://colab.research.google.com/assets/colab-badge.svg\" alt=\"Open In Colab\"/></a>"
      ]
    },
    {
      "cell_type": "code",
      "execution_count": null,
      "metadata": {
        "colab": {
          "base_uri": "https://localhost:8080/"
        },
        "id": "pt21zTACfbyO",
        "outputId": "0d24c95e-4d4d-4379-d22a-8ffa99661f13"
      },
      "outputs": [
        {
          "output_type": "stream",
          "name": "stdout",
          "text": [
            "this is fun\n"
          ]
        }
      ],
      "source": [
        "#this is a comment\n",
        "print(\"this is fun\")"
      ]
    },
    {
      "cell_type": "code",
      "source": [
        "#this code prints hello world\n",
        "print(\"Hello world\")"
      ],
      "metadata": {
        "colab": {
          "base_uri": "https://localhost:8080/"
        },
        "id": "XLtmqUmsgxzS",
        "outputId": "fbf3defa-b30e-4058-a6c7-9478795609af"
      },
      "execution_count": 3,
      "outputs": [
        {
          "output_type": "stream",
          "name": "stdout",
          "text": [
            "Hello world\n"
          ]
        }
      ]
    },
    {
      "cell_type": "code",
      "source": [
        "#level2"
      ],
      "metadata": {
        "id": "1lYdMOxEhRpd"
      },
      "execution_count": 4,
      "outputs": []
    },
    {
      "cell_type": "code",
      "source": [],
      "metadata": {
        "id": "HQlIVakGjMAr"
      },
      "execution_count": null,
      "outputs": []
    }
  ]
}